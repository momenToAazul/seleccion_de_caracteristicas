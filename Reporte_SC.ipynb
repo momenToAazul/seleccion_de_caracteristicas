{
 "cells": [
  {
   "cell_type": "markdown",
   "id": "dc022b64",
   "metadata": {},
   "source": [
    "**Selección de características**\n",
    "\n",
    "**Nombre:** Carlos Hernández Márquez\n",
    "\n",
    "**Matrícula:** 653602\n",
    "\n",
    "**Firma de honor:**\n",
    "\"Doy mi palabra que he realizado esta actividad con integridad académica\""
   ]
  },
  {
   "cell_type": "markdown",
   "id": "53c424bb",
   "metadata": {},
   "source": [
    "\n",
    "En esta actividad se trabaja con la selección de características como paso central para construir un modelo de regresión lineal múltiple más eficiente y preciso. El objetivo es identificar cuáles de las mediciones fisicoquímicas de los vinos tienen un mayor impacto en la predicción de su calidad, reduciendo variables irrelevantes y mejorando la interpretabilidad del modelo.\n",
    "\n",
    "Se utiliza un conjunto de datos de 1,599 vinos tintos, con once características como acidez, densidad, contenido de alcohol y azúcar residual, y la variable objetivo es la calidad asignada por catadores en una escala del 0 al 10. La actividad combina métodos automáticos de selección hacia adelante y hacia atrás para determinar las variables más significativas y generar un modelo robusto que capture la relación entre los predictores y la calidad del vino."
   ]
  },
  {
   "cell_type": "markdown",
   "id": "8bd235a3",
   "metadata": {},
   "source": [
    "# **Importación y revisión inicial de los datos**\n",
    "\n",
    "En esta primera etapa se importan los datos del archivo “Vino Tinto.csv” al entorno de trabajo y se realiza una revisión inicial del conjunto de datos. Este paso permite familiarizarse con las dimensiones del data frame, los nombres de las variables y la estructura general de la información, asegurando que los datos estén correctamente cargados antes de cualquier análisis posterior."
   ]
  },
  {
   "cell_type": "code",
   "execution_count": 2,
   "id": "f0de0f5e",
   "metadata": {},
   "outputs": [
    {
     "name": "stdout",
     "output_type": "stream",
     "text": [
      "(1599, 12)\n",
      "Index(['acidezFija', 'acidezVolatil', 'acidoCitrico', 'azucarResidual',\n",
      "       'cloruros', 'dioxidoAzufreLibre', 'dioxidoAzufreTotal', 'densidad',\n",
      "       'pH', 'sulfatos', 'alcohol', 'calidad'],\n",
      "      dtype='object')\n"
     ]
    }
   ],
   "source": [
    "import pandas as pd\n",
    "df = pd.read_csv(\"A1.4 Vino Tinto.csv\")\n",
    "print(df.shape)\n",
    "print(df.columns)"
   ]
  },
  {
   "cell_type": "markdown",
   "id": "709c711b",
   "metadata": {},
   "source": [
    "El dataset contiene 1,599 observaciones y 12 columnas: 11 variables predictoras (mediciones fisicoquímicas del vino) y 1 variable objetivo (`calidad`). "
   ]
  },
  {
   "cell_type": "code",
   "execution_count": 3,
   "id": "130f4d27",
   "metadata": {},
   "outputs": [
    {
     "data": {
      "text/html": [
       "<div>\n",
       "<style scoped>\n",
       "    .dataframe tbody tr th:only-of-type {\n",
       "        vertical-align: middle;\n",
       "    }\n",
       "\n",
       "    .dataframe tbody tr th {\n",
       "        vertical-align: top;\n",
       "    }\n",
       "\n",
       "    .dataframe thead th {\n",
       "        text-align: right;\n",
       "    }\n",
       "</style>\n",
       "<table border=\"1\" class=\"dataframe\">\n",
       "  <thead>\n",
       "    <tr style=\"text-align: right;\">\n",
       "      <th></th>\n",
       "      <th>acidezFija</th>\n",
       "      <th>acidezVolatil</th>\n",
       "      <th>acidoCitrico</th>\n",
       "      <th>azucarResidual</th>\n",
       "      <th>cloruros</th>\n",
       "      <th>dioxidoAzufreLibre</th>\n",
       "      <th>dioxidoAzufreTotal</th>\n",
       "      <th>densidad</th>\n",
       "      <th>pH</th>\n",
       "      <th>sulfatos</th>\n",
       "      <th>alcohol</th>\n",
       "      <th>calidad</th>\n",
       "    </tr>\n",
       "  </thead>\n",
       "  <tbody>\n",
       "    <tr>\n",
       "      <th>0</th>\n",
       "      <td>7.4</td>\n",
       "      <td>0.70</td>\n",
       "      <td>0.00</td>\n",
       "      <td>1.9</td>\n",
       "      <td>0.076</td>\n",
       "      <td>11.0</td>\n",
       "      <td>34.0</td>\n",
       "      <td>0.9978</td>\n",
       "      <td>3.51</td>\n",
       "      <td>0.56</td>\n",
       "      <td>9.4</td>\n",
       "      <td>5</td>\n",
       "    </tr>\n",
       "    <tr>\n",
       "      <th>1</th>\n",
       "      <td>7.8</td>\n",
       "      <td>0.88</td>\n",
       "      <td>0.00</td>\n",
       "      <td>2.6</td>\n",
       "      <td>0.098</td>\n",
       "      <td>25.0</td>\n",
       "      <td>67.0</td>\n",
       "      <td>0.9968</td>\n",
       "      <td>3.20</td>\n",
       "      <td>0.68</td>\n",
       "      <td>9.8</td>\n",
       "      <td>5</td>\n",
       "    </tr>\n",
       "    <tr>\n",
       "      <th>2</th>\n",
       "      <td>7.8</td>\n",
       "      <td>0.76</td>\n",
       "      <td>0.04</td>\n",
       "      <td>2.3</td>\n",
       "      <td>0.092</td>\n",
       "      <td>15.0</td>\n",
       "      <td>54.0</td>\n",
       "      <td>0.9970</td>\n",
       "      <td>3.26</td>\n",
       "      <td>0.65</td>\n",
       "      <td>9.8</td>\n",
       "      <td>5</td>\n",
       "    </tr>\n",
       "    <tr>\n",
       "      <th>3</th>\n",
       "      <td>11.2</td>\n",
       "      <td>0.28</td>\n",
       "      <td>0.56</td>\n",
       "      <td>1.9</td>\n",
       "      <td>0.075</td>\n",
       "      <td>17.0</td>\n",
       "      <td>60.0</td>\n",
       "      <td>0.9980</td>\n",
       "      <td>3.16</td>\n",
       "      <td>0.58</td>\n",
       "      <td>9.8</td>\n",
       "      <td>6</td>\n",
       "    </tr>\n",
       "    <tr>\n",
       "      <th>4</th>\n",
       "      <td>7.4</td>\n",
       "      <td>0.70</td>\n",
       "      <td>0.00</td>\n",
       "      <td>1.9</td>\n",
       "      <td>0.076</td>\n",
       "      <td>11.0</td>\n",
       "      <td>34.0</td>\n",
       "      <td>0.9978</td>\n",
       "      <td>3.51</td>\n",
       "      <td>0.56</td>\n",
       "      <td>9.4</td>\n",
       "      <td>5</td>\n",
       "    </tr>\n",
       "    <tr>\n",
       "      <th>5</th>\n",
       "      <td>7.4</td>\n",
       "      <td>0.66</td>\n",
       "      <td>0.00</td>\n",
       "      <td>1.8</td>\n",
       "      <td>0.075</td>\n",
       "      <td>13.0</td>\n",
       "      <td>40.0</td>\n",
       "      <td>0.9978</td>\n",
       "      <td>3.51</td>\n",
       "      <td>0.56</td>\n",
       "      <td>9.4</td>\n",
       "      <td>5</td>\n",
       "    </tr>\n",
       "  </tbody>\n",
       "</table>\n",
       "</div>"
      ],
      "text/plain": [
       "   acidezFija  acidezVolatil  acidoCitrico  azucarResidual  cloruros  \\\n",
       "0         7.4           0.70          0.00             1.9     0.076   \n",
       "1         7.8           0.88          0.00             2.6     0.098   \n",
       "2         7.8           0.76          0.04             2.3     0.092   \n",
       "3        11.2           0.28          0.56             1.9     0.075   \n",
       "4         7.4           0.70          0.00             1.9     0.076   \n",
       "5         7.4           0.66          0.00             1.8     0.075   \n",
       "\n",
       "   dioxidoAzufreLibre  dioxidoAzufreTotal  densidad    pH  sulfatos  alcohol  \\\n",
       "0                11.0                34.0    0.9978  3.51      0.56      9.4   \n",
       "1                25.0                67.0    0.9968  3.20      0.68      9.8   \n",
       "2                15.0                54.0    0.9970  3.26      0.65      9.8   \n",
       "3                17.0                60.0    0.9980  3.16      0.58      9.8   \n",
       "4                11.0                34.0    0.9978  3.51      0.56      9.4   \n",
       "5                13.0                40.0    0.9978  3.51      0.56      9.4   \n",
       "\n",
       "   calidad  \n",
       "0        5  \n",
       "1        5  \n",
       "2        5  \n",
       "3        6  \n",
       "4        5  \n",
       "5        5  "
      ]
     },
     "execution_count": 3,
     "metadata": {},
     "output_type": "execute_result"
    }
   ],
   "source": [
    "df.head(6)"
   ]
  },
  {
   "cell_type": "markdown",
   "id": "0781f3a8",
   "metadata": {},
   "source": [
    "La inspección de las primeras filas permite hacerse una idea preliminar de qué variables podrían tener mayor influencia sobre la calidad, por ejemplo, `alcohol`, `acidezVolatil` o `densidad`. Sin embargo, esta evaluación visual es limitada, y es necesario aplicar métodos sistemáticos de selección de características para determinar objetivamente las variables más relevantes."
   ]
  },
  {
   "cell_type": "markdown",
   "id": "5957320f",
   "metadata": {},
   "source": [
    "# **Separación de datos en entrenamiento y prueba**\n",
    "\n",
    "Para evaluar el desempeño del modelo de manera objetiva, se divide el dataset en conjuntos de entrenamiento y prueba con una proporción 80/20. La partición se realiza de forma aleatoria para evitar sesgos que podrían surgir al tomar las primeras o últimas observaciones del dataset."
   ]
  },
  {
   "cell_type": "code",
   "execution_count": 8,
   "id": "f4371816",
   "metadata": {},
   "outputs": [
    {
     "name": "stdout",
     "output_type": "stream",
     "text": [
      "Train: (1279, 12)\n",
      "Test: (320, 12)\n",
      "Total: 1599\n",
      "Original: 1599\n"
     ]
    }
   ],
   "source": [
    "from sklearn.model_selection import train_test_split\n",
    "\n",
    "train, test = train_test_split(df, train_size = 0.8)\n",
    "\n",
    "print(\"Train:\", train.shape)\n",
    "print(\"Test:\", test.shape)\n",
    "print(\"Total:\", train.shape[0] + test.shape[0])\n",
    "print(\"Original:\", df.shape[0])"
   ]
  },
  {
   "cell_type": "markdown",
   "id": "ef5db132",
   "metadata": {},
   "source": [
    "Tras la separación, el conjunto de entrenamiento contiene 1,279 observaciones y 12 columnas, mientras que el conjunto de prueba tiene 320 observaciones y 12 columnas. La suma de ambos conjuntos coincide con el total del dataset original (1,599 observaciones), asegurando que no se pierden datos durante la partición."
   ]
  },
  {
   "cell_type": "markdown",
   "id": "5079002c",
   "metadata": {},
   "source": [
    "# **Selección hacia adelante de características**\n",
    "\n",
    "Para optimizar el modelo de regresión lineal múltiple, se aplica la **selección hacia adelante**, un método que identifica de manera sistemática las variables predictoras que aportan mayor explicación de la variable objetivo. Este enfoque permite construir un modelo más eficiente, reduciendo el número de variables innecesarias y evitando sobreajuste."
   ]
  },
  {
   "cell_type": "code",
   "execution_count": 27,
   "id": "ac1b0c3a",
   "metadata": {},
   "outputs": [
    {
     "name": "stdout",
     "output_type": "stream",
     "text": [
      "\n",
      "Índices de características seleccionadas:\n",
      "[1, 4, 5, 6, 8, 9, 10]\n",
      "\n",
      "Nombres de características seleccionadas:\n",
      "['acidezVolatil', 'cloruros', 'dioxidoAzufreLibre', 'dioxidoAzufreTotal', 'pH', 'sulfatos', 'alcohol']\n"
     ]
    }
   ],
   "source": [
    "from sklearn.linear_model import LinearRegression\n",
    "from mlxtend.feature_selection import SequentialFeatureSelector\n",
    "\n",
    "X = df.drop(\"calidad\", axis=1)\n",
    "y = df[\"calidad\"]\n",
    "\n",
    "lr = LinearRegression()\n",
    "\n",
    "sfs_forward = SequentialFeatureSelector(\n",
    "    estimator=lr,\n",
    "    k_features=(2, 8),\n",
    "    forward=True,\n",
    "    scoring='r2',\n",
    "    cv=10\n",
    ")\n",
    "\n",
    "sfs_forward = sfs_forward.fit(X, y)\n",
    "\n",
    "print(\"\\nÍndices de características seleccionadas:\")\n",
    "print(list(sfs_forward.k_feature_idx_))\n",
    "\n",
    "print(\"\\nNombres de características seleccionadas:\")\n",
    "print(list(sfs_forward.k_feature_names_))"
   ]
  },
  {
   "cell_type": "markdown",
   "id": "c7578f68",
   "metadata": {},
   "source": [
    "El proceso seleccionó las siguientes variables: `acidezVolatil`, `cloruros`, `dioxidoAzufreLibre`, `dioxidoAzufreTotal`, `pH`, `sulfatos` y `alcohol`. Técnicamente, esto indica que estas características aportan la mayor varianza explicativa sobre la calidad del vino en comparación con las restantes. Algunas, como `alcohol` y `acidezVolatil`, eran esperables por la inspección visual previa, mientras que otras, como `dioxidoAzufreLibre` y `dioxidoAzufreTotal`, reflejan la relevancia de factores químicos menos evidentes a simple vista.\n",
    "\n",
    "Estos resultados permiten definir un subconjunto de variables significativas sobre las cuales entrenar el modelo, lo que conecta directamente con el siguiente paso: **entrenar un modelo de regresión lineal múltiple utilizando únicamente las variables seleccionadas**, para evaluar su capacidad predictiva mediante la métrica R² en el conjunto de prueba.\n"
   ]
  },
  {
   "cell_type": "markdown",
   "id": "187b0da2",
   "metadata": {},
   "source": [
    "# **Entrenamiento del modelo con variables seleccionadas y evaluación**\n",
    "\n",
    "En este paso se entrena un **modelo de regresión lineal múltiple** utilizando únicamente las variables seleccionadas por el método de selección hacia adelante. Se busca evaluar la capacidad predictiva del modelo sobre el conjunto de prueba, usando la métrica R² como indicador de qué proporción de la varianza de la calidad del vino es explicada por las variables seleccionadas."
   ]
  },
  {
   "cell_type": "code",
   "execution_count": null,
   "id": "1cb9a05b",
   "metadata": {},
   "outputs": [
    {
     "name": "stdout",
     "output_type": "stream",
     "text": [
      "\n",
      "Variables seleccionadas (hacia adelante):\n",
      "['acidezVolatil', 'cloruros', 'dioxidoAzufreLibre', 'dioxidoAzufreTotal', 'pH', 'sulfatos', 'alcohol']\n",
      "\n",
      "R² en datos de prueba (modelo hacia adelante): \n",
      "0.3554446360037674\n"
     ]
    }
   ],
   "source": [
    "from sklearn.metrics import r2_score\n",
    "\n",
    "selected_features = list(sfs_forward.k_feature_names_)\n",
    "\n",
    "X_train = train[selected_features]\n",
    "y_train = train[\"calidad\"]\n",
    "\n",
    "X_test = test[selected_features]\n",
    "y_test = test[\"calidad\"]\n",
    "\n",
    "# Entrenar\n",
    "lr.fit(X_train, y_train)\n",
    "\n",
    "# Predecir\n",
    "y_pred = lr.predict(X_test)\n",
    "\n",
    "# Calcular R^2\n",
    "r2 = r2_score(y_test, y_pred)\n",
    "\n",
    "print(\"\\nVariables seleccionadas (hacia adelante):\")\n",
    "print(selected_features)\n",
    "\n",
    "print(\"\\nR² en datos de prueba (modelo hacia adelante): \")\n",
    "print(r2)"
   ]
  },
  {
   "cell_type": "markdown",
   "id": "4a40f55a",
   "metadata": {},
   "source": [
    "El modelo entrenado con las variables `acidezVolatil`, `cloruros`, `dioxidoAzufreLibre`, `dioxidoAzufreTotal`, `pH`, `sulfatos` y `alcohol` obtuvo un R² de 0.355, lo que indica que aproximadamente el 35.5% de la variabilidad en la calidad del vino puede explicarse mediante estas características. Aunque este valor no es extremadamente alto, confirma que estas variables aportan información significativa y permite validar la utilidad de la selección hacia adelante.\n",
    "\n",
    "Estos resultados sirven como base para el siguiente paso: aplicar la **selección hacia atrás** a partir de estas mismas variables, con el fin de determinar si un subconjunto más reducido puede mantener o mejorar la capacidad predictiva del modelo, optimizando aún más su eficiencia.\n"
   ]
  },
  {
   "cell_type": "markdown",
   "id": "f7a63f8f",
   "metadata": {},
   "source": [
    "# **Selección hacia atrás de características**\n",
    "\n",
    "A continuación se aplica la **selección hacia atrás** sobre el subconjunto de variables previamente seleccionado mediante el método hacia adelante. Este procedimiento elimina de manera iterativa las variables menos relevantes para maximizar la métrica R², con el objetivo de reducir aún más el número de predictores sin comprometer significativamente la capacidad explicativa del modelo."
   ]
  },
  {
   "cell_type": "code",
   "execution_count": 33,
   "id": "28b24a21",
   "metadata": {},
   "outputs": [
    {
     "name": "stdout",
     "output_type": "stream",
     "text": [
      "\n",
      "Índices de características seleccionadas (hacia atrás):\n",
      "[0, 1, 3, 5, 6]\n",
      "\n",
      "Nombres de características seleccionadas (hacia atrás):\n",
      "['acidezVolatil', 'cloruros', 'dioxidoAzufreTotal', 'sulfatos', 'alcohol']\n"
     ]
    }
   ],
   "source": [
    "sfs_backward = SequentialFeatureSelector(\n",
    "    estimator=lr,\n",
    "    k_features=(2, 5),        # rango entre 2 y 5 variables\n",
    "    forward=False,            # hacia atrás\n",
    "    scoring='r2',\n",
    "    cv=10\n",
    ")\n",
    "\n",
    "sfs_backward = sfs_backward.fit(df[selected_features], y)\n",
    "\n",
    "print(\"\\nÍndices de características seleccionadas (hacia atrás):\")\n",
    "print(list(sfs_backward.k_feature_idx_))\n",
    "\n",
    "print(\"\\nNombres de características seleccionadas (hacia atrás):\")\n",
    "print(list(sfs_backward.k_feature_names_))"
   ]
  },
  {
   "cell_type": "markdown",
   "id": "6eccb5d4",
   "metadata": {},
   "source": [
    "El proceso identificó como variables más relevantes `acidezVolatil`, `cloruros`, `dioxidoAzufreTotal`, `sulfatos` y `alcohol`. Comparado con la selección hacia adelante, se eliminan `dioxidoAzufreLibre` y `pH`, lo que sugiere que su contribución a la explicación de la calidad del vino es menor cuando se consideran conjuntamente las otras variables. Este subconjunto optimizado permite entrenar un modelo más eficiente, reduciendo complejidad y potencial sobreajuste, al tiempo que mantiene las características más influyentes sobre la variable objetivo."
   ]
  },
  {
   "cell_type": "markdown",
   "id": "3eb27e26",
   "metadata": {},
   "source": [
    "# **Comparación de modelos y evaluación de R²**\n",
    "\n",
    "En esta etapa se construyó un nuevo modelo de regresión lineal empleando únicamente las variables seleccionadas mediante el método de eliminación hacia atrás. El objetivo es comparar el desempeño de este modelo reducido con el modelo completo del paso 4, utilizando como métrica principal el coeficiente de determinación (R²) en el conjunto de prueba."
   ]
  },
  {
   "cell_type": "code",
   "execution_count": null,
   "id": "8ebcffe6",
   "metadata": {},
   "outputs": [
    {
     "name": "stdout",
     "output_type": "stream",
     "text": [
      "\n",
      "Variables seleccionadas (hacia atrás):\n",
      "['acidezVolatil', 'cloruros', 'dioxidoAzufreTotal', 'sulfatos', 'alcohol']\n",
      "\n",
      "R² en datos de prueba (modelo hacia atrás):\n",
      "0.3568560100040997\n"
     ]
    }
   ],
   "source": [
    "selected_features_backward = list(sfs_backward.k_feature_names_)\n",
    "\n",
    "X_train_b = train[selected_features_backward]\n",
    "y_train_b = train[\"calidad\"]\n",
    "\n",
    "X_test_b = test[selected_features_backward]\n",
    "y_test_b = test[\"calidad\"]\n",
    "\n",
    "# Entrenar\n",
    "lr.fit(X_train_b, y_train_b)\n",
    "\n",
    "# Predecir\n",
    "y_pred_b = lr.predict(X_test_b)\n",
    "\n",
    "# Calcular R^2\n",
    "r2_b = r2_score(y_test_b, y_pred_b)\n",
    "\n",
    "print(\"\\nVariables seleccionadas (hacia atrás):\")\n",
    "print(selected_features_backward)\n",
    "\n",
    "print(\"\\nR² en datos de prueba (modelo hacia atrás):\")\n",
    "print(r2_b)"
   ]
  },
  {
   "cell_type": "markdown",
   "id": "17b15f36",
   "metadata": {},
   "source": [
    "La comparación entre el modelo completo y los modelos reducidos obtenidos por selección de variables muestra un comportamiento interesante.  \n",
    "\n",
    "- El **modelo hacia atrás**, con solo **5 variables** (`acidezVolatil`, `cloruros`, `dioxidoAzufreTotal`, `sulfatos`, `alcohol`), alcanza un \\(R^2\\) en datos de prueba de **0.3569**.  \n",
    "- El **modelo hacia adelante**, que incluye **7 variables** (`acidezVolatil`, `cloruros`, `dioxidoAzufreLibre`, `dioxidoAzufreTotal`, `pH`, `sulfatos`, `alcohol`), obtiene un \\(R^2\\) muy similar: **0.3554**.  \n",
    "\n",
    "Al comparar estos resultados con el modelo completo, se observa que los valores de \\(R^2\\) se mantienen prácticamente iguales, lo que indica que tanto el modelo hacia atrás como el modelo hacia adelante logran **reducir la complejidad** sin sacrificar de manera significativa la capacidad explicativa.  \n",
    "\n",
    "En particular, el modelo hacia atrás resulta más atractivo: con **menos predictores (5 vs 7)** logra un \\(R^2\\) incluso ligeramente superior al del modelo hacia adelante. Esto refleja un mejor balance entre **parsimonia y poder predictivo**, lo cual hace que sea el modelo más eficiente de los tres comparados.  \n",
    "\n",
    "Aunque ambos métodos de selección son válidos, el **modelo hacia atrás es preferible** porque conserva el poder explicativo del modelo original al mismo tiempo que reduce de forma más efectiva el número de variables.\n",
    "\n"
   ]
  }
 ],
 "metadata": {
  "kernelspec": {
   "display_name": "base",
   "language": "python",
   "name": "python3"
  },
  "language_info": {
   "codemirror_mode": {
    "name": "ipython",
    "version": 3
   },
   "file_extension": ".py",
   "mimetype": "text/x-python",
   "name": "python",
   "nbconvert_exporter": "python",
   "pygments_lexer": "ipython3",
   "version": "3.13.5"
  }
 },
 "nbformat": 4,
 "nbformat_minor": 5
}
